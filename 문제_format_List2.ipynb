{
  "nbformat": 4,
  "nbformat_minor": 0,
  "metadata": {
    "colab": {
      "provenance": [],
      "include_colab_link": true
    },
    "kernelspec": {
      "name": "python3",
      "display_name": "Python 3"
    },
    "language_info": {
      "name": "python"
    }
  },
  "cells": [
    {
      "cell_type": "markdown",
      "metadata": {
        "id": "view-in-github",
        "colab_type": "text"
      },
      "source": [
        "<a href=\"https://colab.research.google.com/github/soobihn/SB/blob/main/%EB%AC%B8%EC%A0%9C_format_List2.ipynb\" target=\"_parent\"><img src=\"https://colab.research.google.com/assets/colab-badge.svg\" alt=\"Open In Colab\"/></a>"
      ]
    },
    {
      "cell_type": "markdown",
      "source": [
        "##변수에 이름/학교/학과 형식으로 저장하고 format을 사용해print하시오(이름/학교/학과는 각각 input을 활용해 입력"
      ],
      "metadata": {
        "id": "7Qajl-mzmqMA"
      }
    },
    {
      "cell_type": "code",
      "source": [
        "A = input(\"이름/학교/학과 : \")"
      ],
      "metadata": {
        "colab": {
          "base_uri": "https://localhost:8080/"
        },
        "id": "B8OAmqOhJpXm",
        "outputId": "444ba4df-a0dd-4c6f-c97c-aea34f2859d9"
      },
      "execution_count": null,
      "outputs": [
        {
          "name": "stdout",
          "output_type": "stream",
          "text": [
            "이름/학교/학과 : 홍길동/강원대학교/ai\n"
          ]
        }
      ]
    },
    {
      "cell_type": "code",
      "source": [
        "print((\"저는 {} {}학과에 다니는 {}이라고 합니다.\").format(A[4:9],A[10:],A[:3]))"
      ],
      "metadata": {
        "colab": {
          "base_uri": "https://localhost:8080/"
        },
        "id": "_19zs-kYJpnE",
        "outputId": "689d8d82-5dd1-4d47-df38-cc7fb4eef6b3"
      },
      "execution_count": null,
      "outputs": [
        {
          "output_type": "stream",
          "name": "stdout",
          "text": [
            "저는 강원대학교 ai학과에 다니는 홍길동이라고 합니다.\n"
          ]
        }
      ]
    },
    {
      "cell_type": "markdown",
      "source": [
        "##위에서 생성된 이름/학교/학과 라는 문자를 이름-학교-학과로 변환하시오"
      ],
      "metadata": {
        "id": "Zkw8IHqm_UOY"
      }
    },
    {
      "cell_type": "code",
      "source": [
        "A.replace(\"/\",\"-\")"
      ],
      "metadata": {
        "id": "oXseUZIKAA8X",
        "colab": {
          "base_uri": "https://localhost:8080/",
          "height": 35
        },
        "outputId": "7183698c-873d-4d36-e132-832c0dd0ac89"
      },
      "execution_count": null,
      "outputs": [
        {
          "output_type": "execute_result",
          "data": {
            "text/plain": [
              "'홍길동-강원대학교-ai'"
            ],
            "application/vnd.google.colaboratory.intrinsic+json": {
              "type": "string"
            }
          },
          "metadata": {},
          "execution_count": 39
        }
      ]
    },
    {
      "cell_type": "markdown",
      "source": [
        "##안녕하세요 저는 AI소프트웨어학과 학생입니다. 만나서 반갑습니다. 라는 문장을 만들어서 반갑습니다. 라는 문장만 따로 print하시오 "
      ],
      "metadata": {
        "id": "6wfO4uJkip-s"
      }
    },
    {
      "cell_type": "code",
      "source": [
        "B = \"안녕하세요 저는 AI소프트웨어학과 학생입니다. 만나서 반갑습니다.\""
      ],
      "metadata": {
        "id": "gEn04xM6jAoh"
      },
      "execution_count": null,
      "outputs": []
    },
    {
      "cell_type": "code",
      "source": [
        "B[-6:]"
      ],
      "metadata": {
        "colab": {
          "base_uri": "https://localhost:8080/",
          "height": 35
        },
        "id": "QYXRW9JKNHX8",
        "outputId": "381cd1fa-ab2e-4184-8365-7efcd3c99271"
      },
      "execution_count": null,
      "outputs": [
        {
          "output_type": "execute_result",
          "data": {
            "text/plain": [
              "'반갑습니다.'"
            ],
            "application/vnd.google.colaboratory.intrinsic+json": {
              "type": "string"
            }
          },
          "metadata": {},
          "execution_count": 41
        }
      ]
    },
    {
      "cell_type": "code",
      "source": [
        "B[29:]"
      ],
      "metadata": {
        "colab": {
          "base_uri": "https://localhost:8080/",
          "height": 35
        },
        "id": "6a-qSwzRNU7u",
        "outputId": "67e11157-f8d8-48ed-ab6b-e57037baa35c"
      },
      "execution_count": null,
      "outputs": [
        {
          "output_type": "execute_result",
          "data": {
            "text/plain": [
              "' 반갑습니다.'"
            ],
            "application/vnd.google.colaboratory.intrinsic+json": {
              "type": "string"
            }
          },
          "metadata": {},
          "execution_count": 42
        }
      ]
    },
    {
      "cell_type": "markdown",
      "source": [
        "##위에서 저장된 변수에서 학교이름만 나오도록 print하시오"
      ],
      "metadata": {
        "id": "01a76lNDm-IR"
      }
    },
    {
      "cell_type": "code",
      "execution_count": null,
      "metadata": {
        "id": "QX2OjsROkwDc",
        "colab": {
          "base_uri": "https://localhost:8080/",
          "height": 35
        },
        "outputId": "40db92e7-cd8e-4a73-f821-4237170c4372"
      },
      "outputs": [
        {
          "output_type": "execute_result",
          "data": {
            "text/plain": [
              "'강원대학교'"
            ],
            "application/vnd.google.colaboratory.intrinsic+json": {
              "type": "string"
            }
          },
          "metadata": {},
          "execution_count": 43
        }
      ],
      "source": [
        "A[4:9]"
      ]
    },
    {
      "cell_type": "markdown",
      "source": [
        "##주어진 이름(Jone-30, Park-30, Kim-20, Lee-10, Oh-32, Kang-25)을 name이란 리스트를 만들고 Lee를 가진 사람의 성만 따로 도출하시오"
      ],
      "metadata": {
        "id": "iwarHaxfk4zW"
      }
    },
    {
      "cell_type": "code",
      "source": [
        "Name = [\"Jone-30\", \"Park-30\", \"Kim-20\", \"Lee-10\", \"Oh-32\", \"Kand-25\"]"
      ],
      "metadata": {
        "id": "0RS1SIt2mT55"
      },
      "execution_count": null,
      "outputs": []
    },
    {
      "cell_type": "code",
      "source": [
        "Name[3][:Name[3].index(\"-\")]"
      ],
      "metadata": {
        "colab": {
          "base_uri": "https://localhost:8080/",
          "height": 35
        },
        "id": "dJU_7Qa1OZi3",
        "outputId": "da7ed68f-707d-4011-edc8-e56341406cba"
      },
      "execution_count": null,
      "outputs": [
        {
          "output_type": "execute_result",
          "data": {
            "text/plain": [
              "'Lee'"
            ],
            "application/vnd.google.colaboratory.intrinsic+json": {
              "type": "string"
            }
          },
          "metadata": {},
          "execution_count": 46
        }
      ]
    },
    {
      "cell_type": "markdown",
      "source": [
        "##20, 50, 76, 10, 59, 22, 40 ,50, 77, 52의 숫자를 하나의 리스트에 저장하시오"
      ],
      "metadata": {
        "id": "rr__BdUH-Elo"
      }
    },
    {
      "cell_type": "code",
      "source": [
        "Num = [20,50,76,10,59,22,40,50,77,52]"
      ],
      "metadata": {
        "id": "OSfGbKq4mJ8T"
      },
      "execution_count": null,
      "outputs": []
    },
    {
      "cell_type": "markdown",
      "source": [
        "## 위에서 저장된 리스트에서 20, 50, 76, 10만 print하시오"
      ],
      "metadata": {
        "id": "O-YZ8boQ-SiI"
      }
    },
    {
      "cell_type": "code",
      "source": [
        "Num[:4]"
      ],
      "metadata": {
        "id": "vCcYYQnxia2i",
        "colab": {
          "base_uri": "https://localhost:8080/"
        },
        "outputId": "c302197c-fb7f-4220-bc77-90b0d89ac8c2"
      },
      "execution_count": null,
      "outputs": [
        {
          "output_type": "execute_result",
          "data": {
            "text/plain": [
              "[20, 50, 76, 10]"
            ]
          },
          "metadata": {},
          "execution_count": 48
        }
      ]
    },
    {
      "cell_type": "markdown",
      "source": [
        "##위에서 저장된 리스트에서 77만 print하시오"
      ],
      "metadata": {
        "id": "jEpdDU_G-eK4"
      }
    },
    {
      "cell_type": "code",
      "source": [
        "Num[-2]"
      ],
      "metadata": {
        "id": "oWKGzPmo-_d4",
        "colab": {
          "base_uri": "https://localhost:8080/"
        },
        "outputId": "db32a756-cdce-4663-90b1-d5c92bdd4022"
      },
      "execution_count": null,
      "outputs": [
        {
          "output_type": "execute_result",
          "data": {
            "text/plain": [
              "77"
            ]
          },
          "metadata": {},
          "execution_count": 50
        }
      ]
    },
    {
      "cell_type": "code",
      "source": [
        "Num[8]"
      ],
      "metadata": {
        "id": "FlpZSlCnRnVI",
        "outputId": "680e3333-cc3c-4ee3-c478-4881a16c1f5f",
        "colab": {
          "base_uri": "https://localhost:8080/"
        }
      },
      "execution_count": null,
      "outputs": [
        {
          "output_type": "execute_result",
          "data": {
            "text/plain": [
              "77"
            ]
          },
          "metadata": {},
          "execution_count": 51
        }
      ]
    },
    {
      "cell_type": "markdown",
      "source": [
        "## 위에서 저장된 리스트에서 음수를 활용해 77, 52를 가지고오시오"
      ],
      "metadata": {
        "id": "hy4j_vUk-zHA"
      }
    },
    {
      "cell_type": "code",
      "source": [
        "Num[-2:]"
      ],
      "metadata": {
        "id": "zXZk1A4Kiidy",
        "colab": {
          "base_uri": "https://localhost:8080/"
        },
        "outputId": "09d6432c-5d29-4c64-812f-e8c4f50aca2f"
      },
      "execution_count": null,
      "outputs": [
        {
          "output_type": "execute_result",
          "data": {
            "text/plain": [
              "[77, 52]"
            ]
          },
          "metadata": {},
          "execution_count": 54
        }
      ]
    }
  ]
}