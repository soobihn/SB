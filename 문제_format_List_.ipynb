{
  "nbformat": 4,
  "nbformat_minor": 0,
  "metadata": {
    "colab": {
      "provenance": [],
      "include_colab_link": true
    },
    "kernelspec": {
      "name": "python3",
      "display_name": "Python 3"
    },
    "language_info": {
      "name": "python"
    }
  },
  "cells": [
    {
      "cell_type": "markdown",
      "metadata": {
        "id": "view-in-github",
        "colab_type": "text"
      },
      "source": [
        "<a href=\"https://colab.research.google.com/github/soobihn/SB/blob/main/%EB%AC%B8%EC%A0%9C_format_List_.ipynb\" target=\"_parent\"><img src=\"https://colab.research.google.com/assets/colab-badge.svg\" alt=\"Open In Colab\"/></a>"
      ]
    },
    {
      "cell_type": "markdown",
      "source": [
        "##변수에 이름/학교/학과 형식으로 저장하고 format을 사용해print하시오(이름/학교/학과는 각각 input을 활용해 입력"
      ],
      "metadata": {
        "id": "7Qajl-mzmqMA"
      }
    },
    {
      "cell_type": "code",
      "source": [
        "A = input()"
      ],
      "metadata": {
        "id": "B8OAmqOhJpXm",
        "outputId": "338b7910-dd7b-4115-c392-dd517e216182",
        "colab": {
          "base_uri": "https://localhost:8080/"
        }
      },
      "execution_count": null,
      "outputs": [
        {
          "name": "stdout",
          "output_type": "stream",
          "text": [
            "홍길동/강원대/ai\n"
          ]
        }
      ]
    },
    {
      "cell_type": "code",
      "source": [
        "print((\"이름은 {}, 학교는 {}, 학과는 {}\").format(A[:3],A[4:7],A[8:]))"
      ],
      "metadata": {
        "id": "_19zs-kYJpnE",
        "outputId": "a9f757ff-6b13-4615-fa96-12c82535e466",
        "colab": {
          "base_uri": "https://localhost:8080/"
        }
      },
      "execution_count": null,
      "outputs": [
        {
          "output_type": "stream",
          "name": "stdout",
          "text": [
            "이름은 홍길동, 학교는 강원대, 학과는 ai\n"
          ]
        }
      ]
    },
    {
      "cell_type": "markdown",
      "source": [
        "##위에서 생성된 이름/학교/학과 라는 문자를 이름-학교-학과로 변환하시오"
      ],
      "metadata": {
        "id": "Zkw8IHqm_UOY"
      }
    },
    {
      "cell_type": "code",
      "source": [
        "A.replace(\"/\",\"-\")"
      ],
      "metadata": {
        "id": "oXseUZIKAA8X",
        "outputId": "c982df0a-3026-473d-c754-440a56c844c9",
        "colab": {
          "base_uri": "https://localhost:8080/",
          "height": 35
        }
      },
      "execution_count": null,
      "outputs": [
        {
          "output_type": "execute_result",
          "data": {
            "text/plain": [
              "'홍길동-강원대-ai'"
            ],
            "application/vnd.google.colaboratory.intrinsic+json": {
              "type": "string"
            }
          },
          "metadata": {},
          "execution_count": 15
        }
      ]
    },
    {
      "cell_type": "markdown",
      "source": [
        "##안녕하세요 저는 AI소프트웨어학과 학생입니다. 만나서 반갑습니다. 라는 문장을 만들어서 반갑습니다. 라는 문장만 따로 print하시오 "
      ],
      "metadata": {
        "id": "6wfO4uJkip-s"
      }
    },
    {
      "cell_type": "code",
      "source": [
        "B = \"안녕하세요 저는 AI소프트웨어학과 학생입니다. 만나서 반갑습니다.\""
      ],
      "metadata": {
        "id": "gEn04xM6jAoh"
      },
      "execution_count": null,
      "outputs": []
    },
    {
      "cell_type": "code",
      "source": [
        "B[29:]"
      ],
      "metadata": {
        "id": "QYXRW9JKNHX8",
        "outputId": "8c1e3be8-e277-4591-e527-cb1fa690e6c5",
        "colab": {
          "base_uri": "https://localhost:8080/",
          "height": 35
        }
      },
      "execution_count": null,
      "outputs": [
        {
          "output_type": "execute_result",
          "data": {
            "text/plain": [
              "' 반갑습니다.'"
            ],
            "application/vnd.google.colaboratory.intrinsic+json": {
              "type": "string"
            }
          },
          "metadata": {},
          "execution_count": 18
        }
      ]
    },
    {
      "cell_type": "code",
      "source": [
        "B[-6:]"
      ],
      "metadata": {
        "id": "6a-qSwzRNU7u",
        "outputId": "90fa4fd8-7b75-45dd-d96f-bb3032b21b1e",
        "colab": {
          "base_uri": "https://localhost:8080/",
          "height": 35
        }
      },
      "execution_count": null,
      "outputs": [
        {
          "output_type": "execute_result",
          "data": {
            "text/plain": [
              "'반갑습니다.'"
            ],
            "application/vnd.google.colaboratory.intrinsic+json": {
              "type": "string"
            }
          },
          "metadata": {},
          "execution_count": 20
        }
      ]
    },
    {
      "cell_type": "markdown",
      "source": [
        "##위에서 저장된 변수에서 학교이름만 나오도록 print하시오"
      ],
      "metadata": {
        "id": "01a76lNDm-IR"
      }
    },
    {
      "cell_type": "code",
      "execution_count": null,
      "metadata": {
        "id": "QX2OjsROkwDc",
        "outputId": "7d5cd092-e7af-493c-bc9a-8ed7f9b19b4e",
        "colab": {
          "base_uri": "https://localhost:8080/",
          "height": 35
        }
      },
      "outputs": [
        {
          "output_type": "execute_result",
          "data": {
            "text/plain": [
              "'강원대'"
            ],
            "application/vnd.google.colaboratory.intrinsic+json": {
              "type": "string"
            }
          },
          "metadata": {},
          "execution_count": 21
        }
      ],
      "source": [
        "A[4:7]"
      ]
    },
    {
      "cell_type": "markdown",
      "source": [
        "##주어진 이름(Jone-30, Park-30, Kim-20, Lee-10, Oh-32, Kang-25)을 name이란 리스트를 만들고 Lee를 가진 사람의 성만 따로 도출하시오"
      ],
      "metadata": {
        "id": "iwarHaxfk4zW"
      }
    },
    {
      "cell_type": "code",
      "source": [
        "Name = [\"Jone-30\", \"Park-30\", \"Kim-20\", \"Lee-10\", \"Oh-32\", \"Kand-25\"]"
      ],
      "metadata": {
        "id": "0RS1SIt2mT55"
      },
      "execution_count": null,
      "outputs": []
    },
    {
      "cell_type": "code",
      "source": [
        "Name[3][:Name[3].index(\"-\")]"
      ],
      "metadata": {
        "id": "dJU_7Qa1OZi3",
        "outputId": "e5077f78-6b92-4959-d0df-14178844d5ad",
        "colab": {
          "base_uri": "https://localhost:8080/",
          "height": 35
        }
      },
      "execution_count": null,
      "outputs": [
        {
          "output_type": "execute_result",
          "data": {
            "text/plain": [
              "'Lee'"
            ],
            "application/vnd.google.colaboratory.intrinsic+json": {
              "type": "string"
            }
          },
          "metadata": {},
          "execution_count": 29
        }
      ]
    },
    {
      "cell_type": "markdown",
      "source": [
        "##20, 50, 76, 10, 59, 22, 40 ,50, 77, 52의 숫자를 하나의 리스트에 저장하시오"
      ],
      "metadata": {
        "id": "rr__BdUH-Elo"
      }
    },
    {
      "cell_type": "code",
      "source": [
        "Num = [20,50,76,10,59,22,40,50,77,52]"
      ],
      "metadata": {
        "id": "OSfGbKq4mJ8T"
      },
      "execution_count": null,
      "outputs": []
    },
    {
      "cell_type": "markdown",
      "source": [
        "## 위에서 저장된 리스트에서 20, 50, 76, 10만 print하시오"
      ],
      "metadata": {
        "id": "O-YZ8boQ-SiI"
      }
    },
    {
      "cell_type": "code",
      "source": [
        "Num[:4]"
      ],
      "metadata": {
        "id": "vCcYYQnxia2i",
        "outputId": "e0d565ac-3d21-435d-aa25-a3007e6c612c",
        "colab": {
          "base_uri": "https://localhost:8080/"
        }
      },
      "execution_count": null,
      "outputs": [
        {
          "output_type": "execute_result",
          "data": {
            "text/plain": [
              "[20, 50, 76, 10]"
            ]
          },
          "metadata": {},
          "execution_count": 31
        }
      ]
    },
    {
      "cell_type": "markdown",
      "source": [
        "##위에서 저장된 리스트에서 77만 print하시오"
      ],
      "metadata": {
        "id": "jEpdDU_G-eK4"
      }
    },
    {
      "cell_type": "code",
      "source": [
        "Num[8]"
      ],
      "metadata": {
        "id": "oWKGzPmo-_d4",
        "outputId": "473b62ed-dee1-4790-d8ed-fbe4fbf0af11",
        "colab": {
          "base_uri": "https://localhost:8080/"
        }
      },
      "execution_count": null,
      "outputs": [
        {
          "output_type": "execute_result",
          "data": {
            "text/plain": [
              "77"
            ]
          },
          "metadata": {},
          "execution_count": 33
        }
      ]
    },
    {
      "cell_type": "markdown",
      "source": [
        "## 위에서 저장된 리스트에서 음수를 활용해 77, 52를 가지고오시오"
      ],
      "metadata": {
        "id": "hy4j_vUk-zHA"
      }
    },
    {
      "cell_type": "code",
      "source": [
        "Num[-2:]"
      ],
      "metadata": {
        "id": "zXZk1A4Kiidy",
        "outputId": "a3c38a59-5323-4280-f383-ee126afb01b4",
        "colab": {
          "base_uri": "https://localhost:8080/"
        }
      },
      "execution_count": null,
      "outputs": [
        {
          "output_type": "execute_result",
          "data": {
            "text/plain": [
              "[77, 52]"
            ]
          },
          "metadata": {},
          "execution_count": 34
        }
      ]
    }
  ]
}