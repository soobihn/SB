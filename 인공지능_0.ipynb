{
  "nbformat": 4,
  "nbformat_minor": 0,
  "metadata": {
    "colab": {
      "provenance": [],
      "authorship_tag": "ABX9TyPN5VxgqEhYEMgieb0D4CDO",
      "include_colab_link": true
    },
    "kernelspec": {
      "name": "python3",
      "display_name": "Python 3"
    },
    "language_info": {
      "name": "python"
    }
  },
  "cells": [
    {
      "cell_type": "markdown",
      "metadata": {
        "id": "view-in-github",
        "colab_type": "text"
      },
      "source": [
        "<a href=\"https://colab.research.google.com/github/soobihn/SB/blob/main/%EC%9D%B8%EA%B3%B5%EC%A7%80%EB%8A%A5_0.ipynb\" target=\"_parent\"><img src=\"https://colab.research.google.com/assets/colab-badge.svg\" alt=\"Open In Colab\"/></a>"
      ]
    },
    {
      "cell_type": "code",
      "source": [
        "name = input()"
      ],
      "metadata": {
        "colab": {
          "base_uri": "https://localhost:8080/"
        },
        "id": "IqlYHaMfl_8D",
        "outputId": "c752dca4-e5f5-498f-e7dc-99755b8d61b2"
      },
      "execution_count": null,
      "outputs": [
        {
          "name": "stdout",
          "output_type": "stream",
          "text": [
            "홍길동\n"
          ]
        }
      ]
    },
    {
      "cell_type": "code",
      "source": [
        "age = input()"
      ],
      "metadata": {
        "colab": {
          "base_uri": "https://localhost:8080/"
        },
        "id": "Qm4uTD8XmSG8",
        "outputId": "24108dac-542d-47eb-ab28-0d206cc0d43a"
      },
      "execution_count": null,
      "outputs": [
        {
          "name": "stdout",
          "output_type": "stream",
          "text": [
            "123\n"
          ]
        }
      ]
    },
    {
      "cell_type": "code",
      "source": [
        "print(f'이름은 {name}이고 나이는 {age}살이다.')"
      ],
      "metadata": {
        "colab": {
          "base_uri": "https://localhost:8080/"
        },
        "id": "7a0rva_pmdzr",
        "outputId": "ed99cc5a-1f69-4e94-b940-36d521b81f5f"
      },
      "execution_count": null,
      "outputs": [
        {
          "output_type": "stream",
          "name": "stdout",
          "text": [
            "이름은 홍길동이고 나이는 123살이다.\n"
          ]
        }
      ]
    },
    {
      "cell_type": "code",
      "source": [
        "for i in range(1,10):\n",
        "  print(f'-----------{i}단-----------')\n",
        "  for j in range(1,10):\n",
        "    print(f'구구단 : {i}*{j}={i*j}입니다.')"
      ],
      "metadata": {
        "colab": {
          "base_uri": "https://localhost:8080/"
        },
        "id": "kw9Ww2iJn-AU",
        "outputId": "6b0a565a-675e-4991-ceae-ca5b0011f7be"
      },
      "execution_count": null,
      "outputs": [
        {
          "output_type": "stream",
          "name": "stdout",
          "text": [
            "-----------1단-----------\n",
            "구구단 : 1*1=1입니다.\n",
            "구구단 : 1*2=2입니다.\n",
            "구구단 : 1*3=3입니다.\n",
            "구구단 : 1*4=4입니다.\n",
            "구구단 : 1*5=5입니다.\n",
            "구구단 : 1*6=6입니다.\n",
            "구구단 : 1*7=7입니다.\n",
            "구구단 : 1*8=8입니다.\n",
            "구구단 : 1*9=9입니다.\n",
            "-----------2단-----------\n",
            "구구단 : 2*1=2입니다.\n",
            "구구단 : 2*2=4입니다.\n",
            "구구단 : 2*3=6입니다.\n",
            "구구단 : 2*4=8입니다.\n",
            "구구단 : 2*5=10입니다.\n",
            "구구단 : 2*6=12입니다.\n",
            "구구단 : 2*7=14입니다.\n",
            "구구단 : 2*8=16입니다.\n",
            "구구단 : 2*9=18입니다.\n",
            "-----------3단-----------\n",
            "구구단 : 3*1=3입니다.\n",
            "구구단 : 3*2=6입니다.\n",
            "구구단 : 3*3=9입니다.\n",
            "구구단 : 3*4=12입니다.\n",
            "구구단 : 3*5=15입니다.\n",
            "구구단 : 3*6=18입니다.\n",
            "구구단 : 3*7=21입니다.\n",
            "구구단 : 3*8=24입니다.\n",
            "구구단 : 3*9=27입니다.\n",
            "-----------4단-----------\n",
            "구구단 : 4*1=4입니다.\n",
            "구구단 : 4*2=8입니다.\n",
            "구구단 : 4*3=12입니다.\n",
            "구구단 : 4*4=16입니다.\n",
            "구구단 : 4*5=20입니다.\n",
            "구구단 : 4*6=24입니다.\n",
            "구구단 : 4*7=28입니다.\n",
            "구구단 : 4*8=32입니다.\n",
            "구구단 : 4*9=36입니다.\n",
            "-----------5단-----------\n",
            "구구단 : 5*1=5입니다.\n",
            "구구단 : 5*2=10입니다.\n",
            "구구단 : 5*3=15입니다.\n",
            "구구단 : 5*4=20입니다.\n",
            "구구단 : 5*5=25입니다.\n",
            "구구단 : 5*6=30입니다.\n",
            "구구단 : 5*7=35입니다.\n",
            "구구단 : 5*8=40입니다.\n",
            "구구단 : 5*9=45입니다.\n",
            "-----------6단-----------\n",
            "구구단 : 6*1=6입니다.\n",
            "구구단 : 6*2=12입니다.\n",
            "구구단 : 6*3=18입니다.\n",
            "구구단 : 6*4=24입니다.\n",
            "구구단 : 6*5=30입니다.\n",
            "구구단 : 6*6=36입니다.\n",
            "구구단 : 6*7=42입니다.\n",
            "구구단 : 6*8=48입니다.\n",
            "구구단 : 6*9=54입니다.\n",
            "-----------7단-----------\n",
            "구구단 : 7*1=7입니다.\n",
            "구구단 : 7*2=14입니다.\n",
            "구구단 : 7*3=21입니다.\n",
            "구구단 : 7*4=28입니다.\n",
            "구구단 : 7*5=35입니다.\n",
            "구구단 : 7*6=42입니다.\n",
            "구구단 : 7*7=49입니다.\n",
            "구구단 : 7*8=56입니다.\n",
            "구구단 : 7*9=63입니다.\n",
            "-----------8단-----------\n",
            "구구단 : 8*1=8입니다.\n",
            "구구단 : 8*2=16입니다.\n",
            "구구단 : 8*3=24입니다.\n",
            "구구단 : 8*4=32입니다.\n",
            "구구단 : 8*5=40입니다.\n",
            "구구단 : 8*6=48입니다.\n",
            "구구단 : 8*7=56입니다.\n",
            "구구단 : 8*8=64입니다.\n",
            "구구단 : 8*9=72입니다.\n",
            "-----------9단-----------\n",
            "구구단 : 9*1=9입니다.\n",
            "구구단 : 9*2=18입니다.\n",
            "구구단 : 9*3=27입니다.\n",
            "구구단 : 9*4=36입니다.\n",
            "구구단 : 9*5=45입니다.\n",
            "구구단 : 9*6=54입니다.\n",
            "구구단 : 9*7=63입니다.\n",
            "구구단 : 9*8=72입니다.\n",
            "구구단 : 9*9=81입니다.\n"
          ]
        }
      ]
    },
    {
      "cell_type": "code",
      "source": [
        "exam = {60,80,95,69,90,81,80,59,79,66,70,90,96}"
      ],
      "metadata": {
        "id": "wKxwUuEWpZ7E"
      },
      "execution_count": null,
      "outputs": []
    },
    {
      "cell_type": "markdown",
      "source": [
        "딕셔너리>"
      ],
      "metadata": {
        "id": "G0cW7H1bwfe2"
      }
    },
    {
      "cell_type": "code",
      "source": [
        "for i in exam:\n",
        "  if i>=90:\n",
        "    print(f'당신의 성적은 {i}이므로 점수는 A입니다.')\n",
        "  elif i>=80:\n",
        "    print(f'당신의 성적은 {i}이므로 점수는 B입니다.')\n",
        "  elif i>=70:\n",
        "    print(f'당신의 성적은 {i}이므로 점수는 C입니다.')\n",
        "  elif i>=60:\n",
        "    print(f'당신의 성적은 {i}이므로 점수는 D입니다.')\n",
        "  else:\n",
        "    print(f'당신의 성적은 {i}이므로 점수는 F입니다.')"
      ],
      "metadata": {
        "colab": {
          "base_uri": "https://localhost:8080/"
        },
        "id": "9QlxBMvkqDz_",
        "outputId": "13fb41c8-0891-4918-cd1c-e4cf07aaa6a3"
      },
      "execution_count": null,
      "outputs": [
        {
          "output_type": "stream",
          "name": "stdout",
          "text": [
            "당신의 성적은 96이므로 점수는 A입니다.\n",
            "당신의 성적은 66이므로 점수는 D입니다.\n",
            "당신의 성적은 69이므로 점수는 D입니다.\n",
            "당신의 성적은 70이므로 점수는 C입니다.\n",
            "당신의 성적은 79이므로 점수는 C입니다.\n",
            "당신의 성적은 80이므로 점수는 B입니다.\n",
            "당신의 성적은 81이므로 점수는 B입니다.\n",
            "당신의 성적은 90이므로 점수는 A입니다.\n",
            "당신의 성적은 59이므로 점수는 F입니다.\n",
            "당신의 성적은 60이므로 점수는 D입니다.\n",
            "당신의 성적은 95이므로 점수는 A입니다.\n"
          ]
        }
      ]
    },
    {
      "cell_type": "code",
      "source": [
        "j=0\n",
        "for i in range(1,11):\n",
        "  j = j+i\n",
        "  print(f'i의 값:{i}, 합계:{j}')"
      ],
      "metadata": {
        "colab": {
          "base_uri": "https://localhost:8080/"
        },
        "id": "XWqn6xxRrni4",
        "outputId": "8bc72fc6-38ee-43ff-908f-1a087ba1c3d2"
      },
      "execution_count": null,
      "outputs": [
        {
          "output_type": "stream",
          "name": "stdout",
          "text": [
            "i의 값:1, 합계:1\n",
            "i의 값:2, 합계:3\n",
            "i의 값:3, 합계:6\n",
            "i의 값:4, 합계:10\n",
            "i의 값:5, 합계:15\n",
            "i의 값:6, 합계:21\n",
            "i의 값:7, 합계:28\n",
            "i의 값:8, 합계:36\n",
            "i의 값:9, 합계:45\n",
            "i의 값:10, 합계:55\n"
          ]
        }
      ]
    },
    {
      "cell_type": "code",
      "source": [
        "i = int(input(\"금액을 입력하시오: \"))\n",
        "if i>=10000:\n",
        "  print(\"구매가능\")\n",
        "else:\n",
        "  print(\"구매 불가능\")"
      ],
      "metadata": {
        "colab": {
          "base_uri": "https://localhost:8080/"
        },
        "id": "2YDGs7liuNAX",
        "outputId": "f4b4afbe-d938-4e7f-82d5-bb15d076f281"
      },
      "execution_count": null,
      "outputs": [
        {
          "output_type": "stream",
          "name": "stdout",
          "text": [
            "금액을 입력하시오: 9000\n",
            "구매 불가능\n"
          ]
        }
      ]
    }
  ]
}