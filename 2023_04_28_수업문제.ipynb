{
  "nbformat": 4,
  "nbformat_minor": 0,
  "metadata": {
    "colab": {
      "provenance": [],
      "include_colab_link": true
    },
    "kernelspec": {
      "name": "python3",
      "display_name": "Python 3"
    },
    "language_info": {
      "name": "python"
    }
  },
  "cells": [
    {
      "cell_type": "markdown",
      "metadata": {
        "id": "view-in-github",
        "colab_type": "text"
      },
      "source": [
        "<a href=\"https://colab.research.google.com/github/soobihn/SB/blob/main/2023_04_28_%EC%88%98%EC%97%85%EB%AC%B8%EC%A0%9C.ipynb\" target=\"_parent\"><img src=\"https://colab.research.google.com/assets/colab-badge.svg\" alt=\"Open In Colab\"/></a>"
      ]
    },
    {
      "cell_type": "markdown",
      "source": [
        "##eqtt,frs2,gee3,gh41,fb3g 의 키 값을 아래와 같이 나타내시오. (4줄로 작성)\n",
        "['키값은 : eqtt 입니다.',\n",
        " '키값은 : frs2 입니다.',\n",
        " '키값은 : gee3 입니다.',\n",
        " '키값은 : gh41 입니다.',\n",
        " '키값은 : fb3g 입니다.']"
      ],
      "metadata": {
        "id": "d5XLvNZ8orjh"
      }
    },
    {
      "cell_type": "code",
      "source": [
        "a = ['키값은 : eqtt 입니다.', '키값은 : frs2 입니다.', '키값은 : gee3 입니다.', '키값은 : gh41 입니다.', '키값은 : fb3g 입니다.']\n",
        "for i in a:\n",
        "  a.append(i\\n)"
      ],
      "metadata": {
        "colab": {
          "base_uri": "https://localhost:8080/"
        },
        "id": "wedf1trqn5MJ",
        "outputId": "3882a230-42bc-431d-8c7c-35a2e0fd8faf"
      },
      "execution_count": null,
      "outputs": [
        {
          "output_type": "stream",
          "name": "stdout",
          "text": [
            "['키값은 : eqtt 입니다.', '키값은 : frs2 입니다.', '키값은 : gee3 입니다.', '키값은 : gh41 입니다.', '키값은 : fb3g 입니다.']\n"
          ]
        }
      ]
    },
    {
      "cell_type": "markdown",
      "source": [
        "## a= [1,2,3,4,5,6,7] , while i < 10:: (9줄로 작성)"
      ],
      "metadata": {
        "id": "_JlB3e3UtXQV"
      }
    },
    {
      "cell_type": "code",
      "source": [
        "a= [1,2,3,4,5,6,7]\n",
        "i = 0\n",
        "while i < 10:\n",
        "  print((\"----{}번째----\").format(a[i]))\n",
        "  for j in range(1,6):\n",
        "    print((\"{}번째 시도\").format(j))\n",
        "  if i == 6:\n",
        "    i = 10\n",
        "  i += 1"
      ],
      "metadata": {
        "colab": {
          "base_uri": "https://localhost:8080/"
        },
        "id": "GvViAYHbsGI-",
        "outputId": "d7b35748-8b4d-45e3-eab3-5339c6b1083b"
      },
      "execution_count": null,
      "outputs": [
        {
          "output_type": "stream",
          "name": "stdout",
          "text": [
            "----1번째----\n",
            "1번째 시도\n",
            "2번째 시도\n",
            "3번째 시도\n",
            "4번째 시도\n",
            "5번째 시도\n",
            "----2번째----\n",
            "1번째 시도\n",
            "2번째 시도\n",
            "3번째 시도\n",
            "4번째 시도\n",
            "5번째 시도\n",
            "----3번째----\n",
            "1번째 시도\n",
            "2번째 시도\n",
            "3번째 시도\n",
            "4번째 시도\n",
            "5번째 시도\n",
            "----4번째----\n",
            "1번째 시도\n",
            "2번째 시도\n",
            "3번째 시도\n",
            "4번째 시도\n",
            "5번째 시도\n",
            "----5번째----\n",
            "1번째 시도\n",
            "2번째 시도\n",
            "3번째 시도\n",
            "4번째 시도\n",
            "5번째 시도\n",
            "----6번째----\n",
            "1번째 시도\n",
            "2번째 시도\n",
            "3번째 시도\n",
            "4번째 시도\n",
            "5번째 시도\n",
            "----7번째----\n",
            "1번째 시도\n",
            "2번째 시도\n",
            "3번째 시도\n",
            "4번째 시도\n",
            "5번째 시도\n"
          ]
        }
      ]
    },
    {
      "cell_type": "code",
      "source": [],
      "metadata": {
        "id": "tROc61iGoEPw"
      },
      "execution_count": null,
      "outputs": []
    }
  ]
}