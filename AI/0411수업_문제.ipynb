{
  "cells": [
    {
      "cell_type": "markdown",
      "metadata": {
        "id": "view-in-github",
        "colab_type": "text"
      },
      "source": [
        "<a href=\"https://colab.research.google.com/github/soobihn/SB/blob/main/0411%EC%88%98%EC%97%85_%EB%AC%B8%EC%A0%9C.ipynb\" target=\"_parent\"><img src=\"https://colab.research.google.com/assets/colab-badge.svg\" alt=\"Open In Colab\"/></a>"
      ]
    },
    {
      "cell_type": "markdown",
      "metadata": {
        "id": "UH86qe8ROgA2"
      },
      "source": [
        "##a라는 변수에 숫자 20을 할당하고, b라는 변수에 숫자 30을 할당해 a와 b의 합을 프린트하시오"
      ]
    },
    {
      "cell_type": "code",
      "execution_count": null,
      "metadata": {
        "colab": {
          "base_uri": "https://localhost:8080/"
        },
        "id": "5iutb_zrOQB0",
        "outputId": "6f58780a-84b6-47e8-9a7f-7b99597359a5"
      },
      "outputs": [
        {
          "name": "stdout",
          "output_type": "stream",
          "text": [
            "50\n"
          ]
        }
      ],
      "source": [
        "a = 20\n",
        "b = 30\n",
        "print(a+b)"
      ]
    },
    {
      "cell_type": "markdown",
      "metadata": {
        "id": "QHKJX5ghOfjr"
      },
      "source": [
        "##아래의 문장을 변수에 저장하고 저장된 변수에서 인공지능이라는 단어만 프린트하시오\n",
        "\n",
        "*   안녕하세요 인공지능 수업에 오신것을 환영합니다. "
      ]
    },
    {
      "cell_type": "code",
      "execution_count": null,
      "metadata": {
        "id": "G00R5VXpOuJs"
      },
      "outputs": [],
      "source": [
        "A = \"안녕하세요 인공지능 수업에 오신것을 환영합니다\""
      ]
    },
    {
      "cell_type": "code",
      "execution_count": null,
      "metadata": {
        "colab": {
          "base_uri": "https://localhost:8080/",
          "height": 35
        },
        "id": "LE7FlhLkOP_X",
        "outputId": "5239c39f-af54-40aa-a1e0-35f597ae1ba3"
      },
      "outputs": [
        {
          "data": {
            "application/vnd.google.colaboratory.intrinsic+json": {
              "type": "string"
            },
            "text/plain": [
              "'인공지능'"
            ]
          },
          "execution_count": 4,
          "metadata": {},
          "output_type": "execute_result"
        }
      ],
      "source": [
        "A[6:10]"
      ]
    },
    {
      "cell_type": "markdown",
      "metadata": {
        "id": "YyOPq28gPFa2"
      },
      "source": [
        "##특정 문자를 입력받아 변수로 저장하는 방법으로 자신의 이름을 입력후 저장하고, 아래의 문장과 같이 format을 사용해 프린트 하시오"
      ]
    },
    {
      "cell_type": "code",
      "execution_count": null,
      "metadata": {
        "colab": {
          "base_uri": "https://localhost:8080/"
        },
        "id": "vR-ZST6kOP8p",
        "outputId": "7bd6c100-265e-4d23-8e75-567fabd478fb"
      },
      "outputs": [
        {
          "name": "stdout",
          "output_type": "stream",
          "text": [
            "홍길동\n",
            "안녕하세요 홍길동님 인공지능 수업에 오신것을 환영합니다.\n"
          ]
        }
      ],
      "source": [
        "B = input()\n",
        "print((\"안녕하세요 {}님 인공지능 수업에 오신것을 환영합니다.\").format(B))"
      ]
    },
    {
      "cell_type": "markdown",
      "metadata": {
        "id": "P4qBWf5nPxnk"
      },
      "source": [
        "#아래의 값들을 하나의 리스트에 저장하고, 리스트를 프린트하시오\n",
        "\n",
        "\n",
        "*   1,5,5,7,3,6,88,12,5,74,4,8,64,2,7,89,33,1,6,8,1,5,6,7\n"
      ]
    },
    {
      "cell_type": "code",
      "execution_count": null,
      "metadata": {
        "colab": {
          "base_uri": "https://localhost:8080/"
        },
        "id": "xpNvlAPjOP5l",
        "outputId": "f661b026-08fa-4bb2-9064-b5e3eb4ae716"
      },
      "outputs": [
        {
          "data": {
            "text/plain": [
              "[1, 5, 5, 7, 3, 6, 88, 12, 5, 74, 4, 8, 64, 2, 7, 89, 33, 1, 6, 8, 1, 5, 6, 7]"
            ]
          },
          "execution_count": 7,
          "metadata": {},
          "output_type": "execute_result"
        }
      ],
      "source": [
        "C = [1,5,5,7,3,6,88,12,5,74,4,8,64,2,7,89,33,1,6,8,1,5,6,7]\n",
        "C"
      ]
    },
    {
      "cell_type": "markdown",
      "metadata": {
        "id": "XZKVY-RKQFXs"
      },
      "source": [
        "#위에서 저장된 리스트 값중 88에 해당하는 리스트의 위치 index를 도출하시오"
      ]
    },
    {
      "cell_type": "code",
      "execution_count": null,
      "metadata": {
        "colab": {
          "base_uri": "https://localhost:8080/"
        },
        "id": "XATdVchKOP2z",
        "outputId": "503960db-353a-46c3-a4f3-5633f975fd00"
      },
      "outputs": [
        {
          "data": {
            "text/plain": [
              "6"
            ]
          },
          "execution_count": 8,
          "metadata": {},
          "output_type": "execute_result"
        }
      ],
      "source": [
        "C.index(88)"
      ]
    },
    {
      "cell_type": "markdown",
      "metadata": {
        "id": "IeCbj6RdS7XI"
      },
      "source": [
        "##주어진 이름 Jone-30, Park-30, Kim-20, Lee-10, Oh-32, Kang-25을 name이란 리스트를 만들고 Lee를 가진 사람의 성만 따로 도출하시오"
      ]
    },
    {
      "cell_type": "code",
      "execution_count": null,
      "metadata": {
        "colab": {
          "base_uri": "https://localhost:8080/",
          "height": 35
        },
        "id": "i39jh9MTS9es",
        "outputId": "e2be84d5-08e8-4a1c-f670-818a791e748b"
      },
      "outputs": [
        {
          "data": {
            "application/vnd.google.colaboratory.intrinsic+json": {
              "type": "string"
            },
            "text/plain": [
              "'Lee'"
            ]
          },
          "execution_count": 54,
          "metadata": {},
          "output_type": "execute_result"
        }
      ],
      "source": [
        "name = [\"Jone-30\", \"Park-30\", \"Kim-20\", \"Lee-10\", \"Oh-32\", \"Kang-25\"]\n",
        "name[3][:name[3].index(\"-\")]"
      ]
    },
    {
      "cell_type": "markdown",
      "metadata": {
        "id": "cnrO1vz2R4K9"
      },
      "source": [
        "##주어진 이름 Jone-30, Park-30, Kim-20, Lee-10, Oh-32, Kang-25 을 name이란 리스트를 만들고 리스트의 형태를 Jone/30 ....  와 같이 모두 변경하고 프린트하시오"
      ]
    },
    {
      "cell_type": "code",
      "execution_count": null,
      "metadata": {
        "colab": {
          "base_uri": "https://localhost:8080/"
        },
        "id": "Y_9vKC0ER35o",
        "outputId": "7c591ca0-ca91-4c16-a6ef-280159d62e7f"
      },
      "outputs": [
        {
          "data": {
            "text/plain": [
              "['Jone/30', 'Park/30', 'Kim/20', 'Lee/10', 'Oh/32', 'Kang/25']"
            ]
          },
          "execution_count": 58,
          "metadata": {},
          "output_type": "execute_result"
        }
      ],
      "source": [
        "name2 = []\n",
        "for i in name:\n",
        "  j = i.replace(\"-\",\"/\")\n",
        "  name2.append(j)\n",
        "\n",
        "name2"
      ]
    },
    {
      "cell_type": "markdown",
      "metadata": {
        "id": "PPBQ6SaJTUP1"
      },
      "source": [
        "##하나의 폴더에 아래와 같은 형식을 가진 파일들이 있다. 이때 jpg와 png파일만 뽑아 리스트로 프린트하시오 만약에 jpg와 png파일이 아닐 경우 아래와 같이 프린트하시오\n",
        "\n",
        "\n",
        "\n",
        "*   dog.png, dog2.png, dog3.jpg, test.pdf, file.py, homework.pptx, jpg.pptx, png2.pptx\n",
        "\n",
        "\n",
        "*   test.pdf은 jpg, png파일에 포함되지 않습니다.\n",
        "\n"
      ]
    },
    {
      "cell_type": "code",
      "execution_count": null,
      "metadata": {
        "colab": {
          "base_uri": "https://localhost:8080/"
        },
        "id": "epbMUjevT2Vf",
        "outputId": "2084d33c-20b4-4a30-e280-237aeacefa55"
      },
      "outputs": [
        {
          "name": "stdout",
          "output_type": "stream",
          "text": [
            "test.pdf은 jpg, png파일에 포함되지 않습니다.\n",
            "file.py은 jpg, png파일에 포함되지 않습니다.\n",
            "homework.pptx은 jpg, png파일에 포함되지 않습니다.\n",
            "jpg.pptx은 jpg, png파일에 포함되지 않습니다.\n",
            "png2.pptx은 jpg, png파일에 포함되지 않습니다.\n"
          ]
        },
        {
          "data": {
            "text/plain": [
              "['dog.png', 'dog2.png', 'dog3.jpg']"
            ]
          },
          "execution_count": 52,
          "metadata": {},
          "output_type": "execute_result"
        }
      ],
      "source": [
        "D = [\"dog.png\", \"dog2.png\", \"dog3.jpg\", \"test.pdf\", \"file.py\", \"homework.pptx\", \"jpg.pptx\", \"png2.pptx\"]\n",
        "E = []\n",
        "for i in D:\n",
        "  if \"png\" in i[i.index(\".\"):]:\n",
        "    E.append(i)\n",
        "  elif \"jpg\" in i[i.index(\".\"):]:\n",
        "    E.append(i)\n",
        "  else:\n",
        "    print((\"{}은 jpg, png파일에 포함되지 않습니다.\").format(i))\n",
        "\n",
        "E"
      ]
    },
    {
      "cell_type": "markdown",
      "metadata": {
        "id": "MVblcgXhQYI4"
      },
      "source": [
        "##위의 리스트에서 50보다 큰 숫자들만 뽑아 하나의 리스트에 저장하고 프린트하고 50보다 작은 숫자들은 또다른 리스트에 저장하시오"
      ]
    },
    {
      "cell_type": "code",
      "execution_count": null,
      "metadata": {
        "id": "gh9s8H0iOPwd"
      },
      "outputs": [],
      "source": [
        "F = []\n",
        "G = []"
      ]
    },
    {
      "cell_type": "code",
      "execution_count": null,
      "metadata": {
        "colab": {
          "base_uri": "https://localhost:8080/"
        },
        "id": "oMujfbi-RWey",
        "outputId": "1d7069ef-80b0-4f41-b240-795fdb646a8e"
      },
      "outputs": [
        {
          "data": {
            "text/plain": [
              "([88, 74, 64, 89],\n",
              " [1, 5, 5, 7, 3, 6, 12, 5, 4, 8, 2, 7, 33, 1, 6, 8, 1, 5, 6, 7])"
            ]
          },
          "execution_count": 36,
          "metadata": {},
          "output_type": "execute_result"
        }
      ],
      "source": [
        "for i in C:\n",
        "  if  i > 50:\n",
        "    F.append(i)\n",
        "  else:\n",
        "    G.append(i)\n",
        "\n",
        "F, G"
      ]
    },
    {
      "cell_type": "markdown",
      "metadata": {
        "id": "jeYQ5NsWRkcm"
      },
      "source": [
        "##하나의 빈 리스트를 만들고 아래의 값을 넣었을때 양수이면 빈 리스트에 추가하고 음수이면 이를 무시해 양수만 저장되어 있는 리스트의 값들을 모두 더해 프린트해라(while, if, continue사용)\n",
        "\n",
        "\n",
        "*   20,50,51,6,74,2,67,-5,-10,-50,-56,-19,55"
      ]
    },
    {
      "cell_type": "code",
      "execution_count": null,
      "metadata": {
        "id": "vtUGoFxuRajG"
      },
      "outputs": [],
      "source": [
        "temp = [20,50,51,6,74,2,67,-5,-10,-50,-56,-19,55]"
      ]
    },
    {
      "cell_type": "code",
      "execution_count": null,
      "metadata": {
        "colab": {
          "base_uri": "https://localhost:8080/"
        },
        "id": "GhrQgCDuBBCA",
        "outputId": "781a35cb-4300-43a5-d3c7-4e5bf5791881"
      },
      "outputs": [
        {
          "output_type": "stream",
          "name": "stdout",
          "text": [
            "325\n"
          ]
        },
        {
          "output_type": "execute_result",
          "data": {
            "text/plain": [
              "[20, 50, 51, 6, 74, 2, 67, 55]"
            ]
          },
          "metadata": {},
          "execution_count": 6
        }
      ],
      "source": [
        "k = []\n",
        "i = 0\n",
        "while i<len(temp):\n",
        "  i += 1\n",
        "  if temp[i-1] >= 0:\n",
        "    k.append(temp[i-1])\n",
        "  elif temp[i-1] < 0:\n",
        "    continue\n",
        "  \n",
        "print(sum(k))\n",
        "k"
      ]
    },
    {
      "cell_type": "markdown",
      "metadata": {
        "id": "4Hb8q-jDXA18"
      },
      "source": [
        "##3개의 값을 넣었을때 값들을 모두 제곱해 더한 결과를 도출하는 함수를 만드시오  "
      ]
    },
    {
      "cell_type": "code",
      "execution_count": null,
      "metadata": {
        "id": "37Rtaw23XUQ1"
      },
      "outputs": [],
      "source": [
        "def kai(a,b,c):\n",
        "  d = (a*a) + (b*b) + (c*c)\n",
        "  return d"
      ]
    },
    {
      "cell_type": "code",
      "execution_count": null,
      "metadata": {
        "colab": {
          "base_uri": "https://localhost:8080/"
        },
        "id": "OVWpgUUCXcRn",
        "outputId": "1dee9870-e777-4d52-a3aa-3ae1964b9120"
      },
      "outputs": [
        {
          "data": {
            "text/plain": [
              "14"
            ]
          },
          "execution_count": 12,
          "metadata": {},
          "output_type": "execute_result"
        }
      ],
      "source": [
        "kai(1,2,3)"
      ]
    },
    {
      "cell_type": "code",
      "execution_count": null,
      "metadata": {
        "colab": {
          "background_save": true,
          "base_uri": "https://localhost:8080/"
        },
        "id": "_Ex1mhEElWfo",
        "outputId": "a144b4e8-3999-42e7-c528-568407a46e4d"
      },
      "outputs": [
        {
          "name": "stdout",
          "output_type": "stream",
          "text": [
            "안녕하세요 AI 식당입니다.\n",
            "햄버거: 15000원\n",
            "피자: 22000원\n",
            "음료: 2000원\n",
            "감자튀김: 5000원\n",
            "--------------------------------------------------\n",
            "현재 총 구매 금액은 25000원 입니다.\n",
            "--------------------------------------------------\n",
            "안녕하세요 AI 식당입니다.\n",
            "햄버거: 15000원\n",
            "피자: 22000원\n",
            "음료: 2000원\n",
            "감자튀김: 5000원\n",
            "--------------------------------------------------\n",
            "현재 총 구매 금액은 50000원 입니다.\n",
            "--------------------------------------------------\n",
            "안녕하세요 AI 식당입니다.\n",
            "햄버거: 15000원\n",
            "피자: 22000원\n",
            "음료: 2000원\n",
            "감자튀김: 5000원\n"
          ]
        }
      ],
      "source": [
        "a = {\"햄버거\":15000, \"피자\":22000, \"음료\":2000, \"감자튀김\":5000}\n",
        "menu = []\n",
        "price = []\n",
        "total = 0\n",
        "for i,j in a.items():\n",
        "  menu.append(i)\n",
        "  price.append(j)\n",
        "\n",
        "while True:\n",
        "  print(\"안녕하세요 AI 식당입니다.\")\n",
        "  for i,j in zip(menu, price):\n",
        "    print((\"{}: {}원\").format(i,j))\n",
        "  choice = input(\"구매하고싶은 품목을 선택해주세요 (or done to exit): \")\n",
        "  print(\"-\"*50)\n",
        "  for i in menu:\n",
        "    if choice == i:\n",
        "      temp = int(input(\"구매하실 수량을 입력해주세요 : \"))\n",
        "      total = total + (j*temp)\n",
        "      print((\"현재 총 구매 금액은 {}원 입니다.\").format(total))\n",
        "      print(\"-\"*50)\n",
        "  if choice == \"done\":\n",
        "    print((\"귀하의 총 구매금액은 :{}원 입니다.\").format(total))\n",
        "    b = int(input(\"금액을 투입하세요 : \"))\n",
        "    print((\"투입금액은 {}원 이고 거스름돈은 {}원 입니다.\").format(b, b-total))\n",
        "    print(\"감사합니다 안녕히 가세요\")\n",
        "    break\n",
        "  elif choice == \"exit\":\n",
        "    print((\"귀하의 총 구매금액은 :{}원 입니다.\").format(total))\n",
        "    c = int(input(\"금액을 투입하세요 : \"))\n",
        "    print((\"투입금액은 {}원 이고 거스름돈은 {}원 입니다.\").format(c, c-total))\n",
        "    print(\"감사합니다 안녕히 가세요\")\n",
        "    break"
      ]
    },
    {
      "cell_type": "code",
      "execution_count": null,
      "metadata": {
        "id": "rXYbsn-qqOCq"
      },
      "outputs": [],
      "source": []
    },
    {
      "cell_type": "markdown",
      "metadata": {
        "id": "SwHw68cYGIjn"
      },
      "source": [
        "## 액정 파손 -10000, 카메라 문제 -50000, 터치불량 -10000 이라 할때 핸드폰 가격을 입력했을 때 조건에 따라 가격을 책정해주는 함수를 만드시오"
      ]
    },
    {
      "cell_type": "code",
      "execution_count": null,
      "metadata": {
        "id": "Syec69V6zOQj"
      },
      "outputs": [],
      "source": [
        "def phone(a,b,)"
      ]
    },
    {
      "cell_type": "markdown",
      "metadata": {
        "id": "Q0cpJmS0JAMs"
      },
      "source": [
        "##위의 문제를 함수에 *args를 써서 액정파손, 카메라 문제, 터치불량에 대해 가격을 책정할 수 있게 만드시오"
      ]
    },
    {
      "cell_type": "code",
      "execution_count": null,
      "metadata": {
        "id": "FgKBkV1f0WeK"
      },
      "outputs": [],
      "source": []
    },
    {
      "cell_type": "code",
      "execution_count": null,
      "metadata": {
        "colab": {
          "base_uri": "https://localhost:8080/"
        },
        "id": "6V5sVTAZQGZe",
        "outputId": "595cbd3f-077b-44f3-ee10-0b9227bf8205"
      },
      "outputs": [
        {
          "data": {
            "text/plain": [
              "440000"
            ]
          },
          "execution_count": 46,
          "metadata": {},
          "output_type": "execute_result"
        }
      ],
      "source": [
        "phone(\"액정파손\",\"카메라 문제\", price=500000)"
      ]
    },
    {
      "cell_type": "code",
      "execution_count": null,
      "metadata": {
        "id": "xBTz-xb_XrA2"
      },
      "outputs": [],
      "source": []
    },
    {
      "cell_type": "code",
      "execution_count": null,
      "metadata": {
        "id": "aCQ3YniCXq-k"
      },
      "outputs": [],
      "source": []
    }
  ],
  "metadata": {
    "colab": {
      "provenance": [],
      "include_colab_link": true
    },
    "kernelspec": {
      "display_name": "Python 3",
      "name": "python3"
    },
    "language_info": {
      "name": "python"
    }
  },
  "nbformat": 4,
  "nbformat_minor": 0
}
