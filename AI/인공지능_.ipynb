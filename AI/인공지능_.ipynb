{
  "nbformat": 4,
  "nbformat_minor": 0,
  "metadata": {
    "colab": {
      "provenance": [],
      "include_colab_link": true
    },
    "kernelspec": {
      "name": "python3",
      "display_name": "Python 3"
    },
    "language_info": {
      "name": "python"
    }
  },
  "cells": [
    {
      "cell_type": "markdown",
      "metadata": {
        "id": "view-in-github",
        "colab_type": "text"
      },
      "source": [
        "<a href=\"https://colab.research.google.com/github/soobihn/SB/blob/main/%EC%9D%B8%EA%B3%B5%EC%A7%80%EB%8A%A5_.ipynb\" target=\"_parent\"><img src=\"https://colab.research.google.com/assets/colab-badge.svg\" alt=\"Open In Colab\"/></a>"
      ]
    },
    {
      "cell_type": "markdown",
      "source": [
        "##name과 age 변수를 만들어 print와 format을 활용해 name 변수에는 이름, age변수에는 나이를 입력해 결과를 프린트 하시오"
      ],
      "metadata": {
        "id": "7R5RuZ9ov_FA"
      }
    },
    {
      "cell_type": "code",
      "execution_count": null,
      "metadata": {
        "id": "yEcyYjukdfLX",
        "colab": {
          "base_uri": "https://localhost:8080/"
        },
        "outputId": "548cd8e2-44f8-4326-9194-2befcca2ccb2"
      },
      "outputs": [
        {
          "name": "stdout",
          "output_type": "stream",
          "text": [
            "이름을 입력해주세요김창균\n",
            "나이를 입력해 주세요34\n"
          ]
        }
      ],
      "source": [
        "name=input(\"이름을 입력해주세요\")\n",
        "age=int(input(\"나이를 입력해 주세요\"))"
      ]
    },
    {
      "cell_type": "code",
      "source": [
        "print((\"저의 이름은{}이고, 나이는 {}입니다.\").format(name,age))"
      ],
      "metadata": {
        "id": "lbAiXR_bkS1r",
        "colab": {
          "base_uri": "https://localhost:8080/"
        },
        "outputId": "80204343-3fb6-4927-9d91-dc84b73897bd"
      },
      "execution_count": null,
      "outputs": [
        {
          "output_type": "stream",
          "name": "stdout",
          "text": [
            "저의 이름은김창균이고, 나이는 34입니다.\n"
          ]
        }
      ]
    },
    {
      "cell_type": "markdown",
      "source": [
        "##1단 부터 9단까지 구구단을 만드시오"
      ],
      "metadata": {
        "id": "-FbiR7FjU4hm"
      }
    },
    {
      "cell_type": "code",
      "source": [
        "for i in range(1,10):\n",
        "  print((\"------{}단------\").format(i))\n",
        "  for j in range(1,10):\n",
        "    print((\"구구단 : {}X{}={} 입니다.\").format(i,j,i*j))"
      ],
      "metadata": {
        "id": "sIT1JaDHkSUz"
      },
      "execution_count": null,
      "outputs": []
    },
    {
      "cell_type": "markdown",
      "source": [
        "##exam=[60,80,95,69,90,81,80,69,79,66,70,90,96]을 리스트로 변환하고 90점 이상 A 80점 이상 90점 미만B, 70점 이상 80점 미만을 C 60점 이상 70점 미만은 D 이외는 F로 아래와 같이 나타내시오"
      ],
      "metadata": {
        "id": "fP15Ya3WVC4k"
      }
    },
    {
      "cell_type": "code",
      "source": [
        "exam=[60,80,95,69,90,81,80,69,79,66,70,90,96]"
      ],
      "metadata": {
        "id": "VXrKw-tikbgJ"
      },
      "execution_count": null,
      "outputs": []
    },
    {
      "cell_type": "code",
      "source": [
        "for i in exam:\n",
        "  if i>=90:\n",
        "    print(\"A\")\n",
        "  elif i>=80 and i<90:\n",
        "    print(\"B\")\n",
        "  elif i>=70 and i<80:\n",
        "    print(\"C\")\n",
        "  elif i>=60 and i<70:\n",
        "    print(\"D\")\n",
        "  else:\n",
        "    print(\"F\")"
      ],
      "metadata": {
        "id": "zEnlW3z0Vj6t"
      },
      "execution_count": null,
      "outputs": []
    },
    {
      "cell_type": "code",
      "source": [
        "sum=0\n",
        "for i in range(1,11):\n",
        "  sum=sum+i\n",
        "  print((\"i의 값 {}, 합계: {}\").format(i, sum))"
      ],
      "metadata": {
        "colab": {
          "base_uri": "https://localhost:8080/"
        },
        "id": "IzAMVjDpVjx9",
        "outputId": "121edf36-2a9e-4ec0-8f82-8ce72939babd"
      },
      "execution_count": null,
      "outputs": [
        {
          "output_type": "stream",
          "name": "stdout",
          "text": [
            "i의 값 1, 합계: 1\n",
            "i의 값 2, 합계: 3\n",
            "i의 값 3, 합계: 6\n",
            "i의 값 4, 합계: 10\n",
            "i의 값 5, 합계: 15\n",
            "i의 값 6, 합계: 21\n",
            "i의 값 7, 합계: 28\n",
            "i의 값 8, 합계: 36\n",
            "i의 값 9, 합계: 45\n",
            "i의 값 10, 합계: 55\n"
          ]
        }
      ]
    },
    {
      "cell_type": "markdown",
      "source": [
        "##중국집에서 주문을 한다. 짜장면 한그릇은 10,000원 이다. 입력 금액이 짜장면 한 그릇보다 많으면 구매가능 아니면 구매 불가능으로 나타내시오"
      ],
      "metadata": {
        "id": "mj-ZoI-bVHPN"
      }
    },
    {
      "cell_type": "code",
      "source": [
        "jjajang=int(input())\n",
        "\n",
        "if jjajang >10000:\n",
        "  print((\"당신은 {}원이 있으므로 {}개 구매가능\").format(jjajang, jjajang/10000))\n",
        "else:\n",
        "  print(\"구매불가능\")"
      ],
      "metadata": {
        "colab": {
          "base_uri": "https://localhost:8080/"
        },
        "id": "vKwq2MvHVJx1",
        "outputId": "dd43dcaa-4b66-4720-97b2-619dca7c7824"
      },
      "execution_count": null,
      "outputs": [
        {
          "output_type": "stream",
          "name": "stdout",
          "text": [
            "13000\n",
            "당신은 13000원이 있으므로 1개 구매가능\n"
          ]
        }
      ]
    },
    {
      "cell_type": "markdown",
      "source": [
        "##중국집에서 주문을 한다. 짜장면 한그릇은 10,000원 이다. 입력 금액이 짜장면 한 그릇보다 많으면 구매가능 아니면 구매 불가능으로 나타내시오\n",
        "\n",
        "당신은 13000원이 있으므로 1개 구매가능"
      ],
      "metadata": {
        "id": "qlcSZbGtc0-t"
      }
    },
    {
      "cell_type": "code",
      "source": [
        "jjajang=int(input())\n",
        "\n",
        "if jjajang >10000:\n",
        "  print((\"당신은 {}원이 있으므로 {}개 구매가능\").format(jjajang, jjajang//10000))\n",
        "else:\n",
        "  print(\"구매불가능\")"
      ],
      "metadata": {
        "id": "SKaunC62dID9"
      },
      "execution_count": null,
      "outputs": []
    },
    {
      "cell_type": "markdown",
      "source": [
        "##저는 .. 학과이고 이름은 .. 저의 나이는 ... 이고 저의 키는 ...입니다."
      ],
      "metadata": {
        "id": "O1A0n_gadJSd"
      }
    },
    {
      "cell_type": "code",
      "source": [
        "a=input(\"학과를 입력해 주세요 : \")\n",
        "b=input(\"이름을 입력해 주세요 : \")\n",
        "c=int(input(\"나이를 입력해 주세요 : \"))\n",
        "d=float(input(\"키를 입력해주세요 : \"))\n",
        "\n",
        "print(\"저는 {} 학과이고 이름은 {} 저의 나이는 {} 이고 저의 키는 {} 입니다.\").format(a,b,c,d)"
      ],
      "metadata": {
        "id": "vKwIYszdeNbO"
      },
      "execution_count": null,
      "outputs": []
    },
    {
      "cell_type": "markdown",
      "source": [
        "##한 학생의 시험 점수는 다음과 같다. grades=[85, 90, 92, 78, 80, 95]이때 모든 점수의 합의 평균이 85점이 넘을때 시험에 합격했습니다.라는 문구를 넣어서 print해줘 "
      ],
      "metadata": {
        "id": "tIb5erX3gbW2"
      }
    },
    {
      "cell_type": "code",
      "source": [
        "grades=[85, 90, 92, 78, 80, 95]"
      ],
      "metadata": {
        "id": "Vmn5WpvwDX84"
      },
      "execution_count": null,
      "outputs": []
    },
    {
      "cell_type": "code",
      "source": [
        "sum = 0\n",
        "count = 0\n",
        "\n",
        "for grade in grades:\n",
        "    sum=sum + grade\n",
        "    count=count + 1\n",
        "\n",
        "average = sum / count\n",
        "\n",
        "if average > 85:\n",
        "    print(\"축하합니다. 시험에 합격했습니다.\")"
      ],
      "metadata": {
        "id": "pA190y-pDdUx",
        "colab": {
          "base_uri": "https://localhost:8080/"
        },
        "outputId": "0bc75f6b-b44e-4634-c5bf-6b2ef1dc3b8f"
      },
      "execution_count": null,
      "outputs": [
        {
          "output_type": "stream",
          "name": "stdout",
          "text": [
            "축하합니다. 시험에 합격했습니다.\n"
          ]
        }
      ]
    },
    {
      "cell_type": "code",
      "source": [],
      "metadata": {
        "id": "L8cR8ecADfKX"
      },
      "execution_count": null,
      "outputs": []
    },
    {
      "cell_type": "code",
      "source": [],
      "metadata": {
        "id": "6DuKRB2rDf4X"
      },
      "execution_count": null,
      "outputs": []
    },
    {
      "cell_type": "code",
      "source": [],
      "metadata": {
        "id": "Rd-BqkRoFAJI"
      },
      "execution_count": null,
      "outputs": []
    },
    {
      "cell_type": "code",
      "source": [],
      "metadata": {
        "id": "sLWdQlWP2fx9"
      },
      "execution_count": null,
      "outputs": []
    },
    {
      "cell_type": "code",
      "source": [],
      "metadata": {
        "id": "qkk5w4gjFBDA"
      },
      "execution_count": null,
      "outputs": []
    },
    {
      "cell_type": "code",
      "source": [],
      "metadata": {
        "id": "PCTH3gSi2dhk"
      },
      "execution_count": null,
      "outputs": []
    },
    {
      "cell_type": "code",
      "source": [],
      "metadata": {
        "id": "W8g21q-a2v-8"
      },
      "execution_count": null,
      "outputs": []
    }
  ]
}
